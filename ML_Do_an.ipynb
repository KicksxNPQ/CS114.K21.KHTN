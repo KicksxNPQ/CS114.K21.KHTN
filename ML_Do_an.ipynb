{
  "nbformat": 4,
  "nbformat_minor": 0,
  "metadata": {
    "colab": {
      "name": "ML_Do an.ipynb",
      "provenance": [],
      "include_colab_link": true
    },
    "kernelspec": {
      "name": "python3",
      "display_name": "Python 3"
    }
  },
  "cells": [
    {
      "cell_type": "markdown",
      "metadata": {
        "id": "view-in-github",
        "colab_type": "text"
      },
      "source": [
        "<a href=\"https://colab.research.google.com/github/KicksxNPQ/CS114.K21.KHTN/blob/master/ML_Do_an.ipynb\" target=\"_parent\"><img src=\"https://colab.research.google.com/assets/colab-badge.svg\" alt=\"Open In Colab\"/></a>"
      ]
    },
    {
      "cell_type": "markdown",
      "metadata": {
        "id": "sDSohGQhrRZG",
        "colab_type": "text"
      },
      "source": [
        "# **ĐỀ TÀI: NHẬN DIỆN XE MÁY**"
      ]
    },
    {
      "cell_type": "markdown",
      "metadata": {
        "id": "RzkBuxfzsqVd",
        "colab_type": "text"
      },
      "source": [
        "1. Mô tả bài toán\n",
        "- Input: Một hình ảnh chiếc xe\n",
        "- Output: Phân loại xe máy đó là xe số hay xe tay ga\n",
        "\n",
        "2. Mô tả về bộ dữ liệu\n",
        "- Cách thức xây dựng bộ dữ liệu: tìm kiếm trên mạng, thu thập hình ảnh từ bạn bè.\n",
        "- Số lượng: 500 ảnh\n",
        "- Độ đa dạng: chỉ tập trung về xe máy.\n",
        "- Các thao tác tiền xử lý dữ liệu: \n",
        "> Thu thập dữ liệu\n",
        "> Gắn nhãn dữ liệu\n",
        "\n",
        "- Phân chia dữ liệu: \n",
        "> Train/Dev/Test: 8/1/1\n",
        "\n",
        "3. Mô tả về đặc trưng\n",
        "+ Số lượng bánh xe\n",
        "+ Chiều dài xe\n",
        "+ Chiều rộng bánh xe\n",
        "+ Loại xe (tay ga, tay côn, xe số)\n",
        "\n",
        "4. Mô tả về thuật toán máy học\n",
        "- Sử dụng thuật toán Faster R-CNN\n",
        "\n",
        "5. Cài đặt, tinh chỉnh tham số\n",
        "\n",
        "6. Đánh giá kết quả, kết luận"
      ]
    },
    {
      "cell_type": "code",
      "metadata": {
        "id": "xXyZyhyNCGjl",
        "colab_type": "code",
        "colab": {
          "base_uri": "https://localhost:8080/",
          "height": 122
        },
        "outputId": "ea315708-e25f-474e-f9f9-0bf4c4a96c23"
      },
      "source": [
        "from google.colab import drive\n",
        "drive.mount('/content/drive')"
      ],
      "execution_count": 2,
      "outputs": [
        {
          "output_type": "stream",
          "text": [
            "Go to this URL in a browser: https://accounts.google.com/o/oauth2/auth?client_id=947318989803-6bn6qk8qdgf4n4g3pfee6491hc0brc4i.apps.googleusercontent.com&redirect_uri=urn%3aietf%3awg%3aoauth%3a2.0%3aoob&response_type=code&scope=email%20https%3a%2f%2fwww.googleapis.com%2fauth%2fdocs.test%20https%3a%2f%2fwww.googleapis.com%2fauth%2fdrive%20https%3a%2f%2fwww.googleapis.com%2fauth%2fdrive.photos.readonly%20https%3a%2f%2fwww.googleapis.com%2fauth%2fpeopleapi.readonly\n",
            "\n",
            "Enter your authorization code:\n",
            "··········\n",
            "Mounted at /content/drive\n"
          ],
          "name": "stdout"
        }
      ]
    },
    {
      "cell_type": "code",
      "metadata": {
        "id": "bASBL9KsBZgo",
        "colab_type": "code",
        "colab": {
          "base_uri": "https://localhost:8080/",
          "height": 88
        },
        "outputId": "6a3dc02a-76e2-4b71-d10f-65b830ffd04f"
      },
      "source": [
        "import os\n",
        "import glob\n",
        "import h5py\n",
        "import shutil\n",
        "import imgaug as aug\n",
        "import numpy as np # linear algebra\n",
        "import pandas as pd # data processing, CSV file I/O (e.g. pd.read_csv)\n",
        "import seaborn as sns\n",
        "import matplotlib.pyplot as plt\n",
        "import matplotlib.image as mimg\n",
        "import imgaug.augmenters as iaa\n",
        "from os import listdir, makedirs, getcwd, remove\n",
        "from os.path import isfile, join, abspath, exists, isdir, expanduser\n",
        "from PIL import Image\n",
        "from pathlib import Path\n",
        "from skimage.io import imread\n",
        "from skimage.transform import resize\n",
        "from keras.models import Sequential, Model\n",
        "from keras.applications.vgg16 import VGG16, preprocess_input\n",
        "from keras.preprocessing.image import ImageDataGenerator,load_img, img_to_array\n",
        "from keras.models import Sequential\n",
        "from keras.layers import Conv2D, MaxPooling2D, Dense, Dropout, Input, Flatten, SeparableConv2D\n",
        "from keras.layers import GlobalMaxPooling2D\n",
        "from keras.layers.normalization import BatchNormalization\n",
        "from keras.layers.merge import Concatenate\n",
        "from keras.models import Model\n",
        "from keras.optimizers import Adam, SGD, RMSprop\n",
        "from keras.callbacks import ModelCheckpoint, Callback, EarlyStopping\n",
        "from keras.utils import to_categorical\n",
        "from sklearn.model_selection import train_test_split\n",
        "from sklearn.preprocessing import StandardScaler\n",
        "from mlxtend.plotting import plot_confusion_matrix\n",
        "from sklearn.metrics import confusion_matrix\n",
        "import cv2\n",
        "from keras import backend as K"
      ],
      "execution_count": 3,
      "outputs": [
        {
          "output_type": "stream",
          "text": [
            "/usr/local/lib/python3.6/dist-packages/statsmodels/tools/_testing.py:19: FutureWarning: pandas.util.testing is deprecated. Use the functions in the public API at pandas.testing instead.\n",
            "  import pandas.util.testing as tm\n",
            "Using TensorFlow backend.\n"
          ],
          "name": "stderr"
        }
      ]
    },
    {
      "cell_type": "code",
      "metadata": {
        "id": "Z80aJKv-DfBQ",
        "colab_type": "code",
        "colab": {
          "base_uri": "https://localhost:8080/",
          "height": 34
        },
        "outputId": "555a600e-96aa-44f5-a643-3c9ca3961b25"
      },
      "source": [
        "print(os.listdir())"
      ],
      "execution_count": 4,
      "outputs": [
        {
          "output_type": "stream",
          "text": [
            "['.config', 'drive', 'sample_data']\n"
          ],
          "name": "stdout"
        }
      ]
    },
    {
      "cell_type": "code",
      "metadata": {
        "id": "N3ub0kUtDsxH",
        "colab_type": "code",
        "colab": {
          "base_uri": "https://localhost:8080/",
          "height": 34
        },
        "outputId": "42eb317a-6755-4d87-c9bd-60f37cda586b"
      },
      "source": [
        "data_dir = Path(r'./drive/My Drive/MotorCycle_data')\n",
        "automotor_data = data_dir / 'AutomaticTransmissionMotorcycle'\n",
        "manualmotor_data = data_dir / 'ManualTransmissionMotorcycle'\n",
        "print(automotor_data)"
      ],
      "execution_count": 5,
      "outputs": [
        {
          "output_type": "stream",
          "text": [
            "drive/My Drive/MotorCycle_data/AutomaticTransmissionMotorcycle\n"
          ],
          "name": "stdout"
        }
      ]
    },
    {
      "cell_type": "code",
      "metadata": {
        "id": "6XPy7AUBHeiZ",
        "colab_type": "code",
        "colab": {}
      },
      "source": [
        "def get_data(data, pattern):\n",
        "  data_case = data.glob(pattern)\n",
        "  return data_case"
      ],
      "execution_count": 6,
      "outputs": []
    },
    {
      "cell_type": "code",
      "metadata": {
        "id": "xZrpPFgV26hX",
        "colab_type": "code",
        "colab": {}
      },
      "source": [
        ""
      ],
      "execution_count": 6,
      "outputs": []
    },
    {
      "cell_type": "markdown",
      "metadata": {
        "id": "vy9BYgJz2zIm",
        "colab_type": "text"
      },
      "source": [
        "Gán nhãn:\n",
        "+ Nhãn 0 là xe tay ga\n",
        "+ Nhãn 1 là xe gắn máy"
      ]
    },
    {
      "cell_type": "code",
      "metadata": {
        "id": "befPLXmzEf4P",
        "colab_type": "code",
        "colab": {}
      },
      "source": [
        "train_data = []\n",
        "for img in get_data(automotor_data, '*.jpeg'):\n",
        "  train_data.append((img,0))\n",
        "for img in get_data(automotor_data, '*.jpg'):\n",
        "  train_data.append((img,0))\n",
        "for img in get_data(automotor_data, '*.png'):\n",
        "  train_data.append((img,0))\n",
        "for img in get_data(manualmotor_data, '*.jpeg'):\n",
        "  train_data.append((img,1))\n",
        "for img in get_data(manualmotor_data, '*.jpg'):\n",
        "  train_data.append((img,1))\n",
        "for img in get_data(manualmotor_data, '*.png'):\n",
        "  train_data.append((img,1))\n",
        "train_data = pd.DataFrame(train_data, columns=['image', 'label'],index=None)\n",
        "train_data = train_data.sample(frac=1.).reset_index(drop=True)"
      ],
      "execution_count": 7,
      "outputs": []
    },
    {
      "cell_type": "code",
      "metadata": {
        "id": "d2VoS7pOIOgh",
        "colab_type": "code",
        "colab": {
          "base_uri": "https://localhost:8080/",
          "height": 204
        },
        "outputId": "1ba453c6-9379-4bd7-dd43-0f62bb7a6075"
      },
      "source": [
        "train_data.head()"
      ],
      "execution_count": 8,
      "outputs": [
        {
          "output_type": "execute_result",
          "data": {
            "text/html": [
              "<div>\n",
              "<style scoped>\n",
              "    .dataframe tbody tr th:only-of-type {\n",
              "        vertical-align: middle;\n",
              "    }\n",
              "\n",
              "    .dataframe tbody tr th {\n",
              "        vertical-align: top;\n",
              "    }\n",
              "\n",
              "    .dataframe thead th {\n",
              "        text-align: right;\n",
              "    }\n",
              "</style>\n",
              "<table border=\"1\" class=\"dataframe\">\n",
              "  <thead>\n",
              "    <tr style=\"text-align: right;\">\n",
              "      <th></th>\n",
              "      <th>image</th>\n",
              "      <th>label</th>\n",
              "    </tr>\n",
              "  </thead>\n",
              "  <tbody>\n",
              "    <tr>\n",
              "      <th>0</th>\n",
              "      <td>drive/My Drive/MotorCycle_data/ManualTransmiss...</td>\n",
              "      <td>1</td>\n",
              "    </tr>\n",
              "    <tr>\n",
              "      <th>1</th>\n",
              "      <td>drive/My Drive/MotorCycle_data/ManualTransmiss...</td>\n",
              "      <td>1</td>\n",
              "    </tr>\n",
              "    <tr>\n",
              "      <th>2</th>\n",
              "      <td>drive/My Drive/MotorCycle_data/AutomaticTransm...</td>\n",
              "      <td>0</td>\n",
              "    </tr>\n",
              "    <tr>\n",
              "      <th>3</th>\n",
              "      <td>drive/My Drive/MotorCycle_data/ManualTransmiss...</td>\n",
              "      <td>1</td>\n",
              "    </tr>\n",
              "    <tr>\n",
              "      <th>4</th>\n",
              "      <td>drive/My Drive/MotorCycle_data/ManualTransmiss...</td>\n",
              "      <td>1</td>\n",
              "    </tr>\n",
              "  </tbody>\n",
              "</table>\n",
              "</div>"
            ],
            "text/plain": [
              "                                               image  label\n",
              "0  drive/My Drive/MotorCycle_data/ManualTransmiss...      1\n",
              "1  drive/My Drive/MotorCycle_data/ManualTransmiss...      1\n",
              "2  drive/My Drive/MotorCycle_data/AutomaticTransm...      0\n",
              "3  drive/My Drive/MotorCycle_data/ManualTransmiss...      1\n",
              "4  drive/My Drive/MotorCycle_data/ManualTransmiss...      1"
            ]
          },
          "metadata": {
            "tags": []
          },
          "execution_count": 8
        }
      ]
    },
    {
      "cell_type": "code",
      "metadata": {
        "id": "G8sesrtSfAUb",
        "colab_type": "code",
        "colab": {
          "base_uri": "https://localhost:8080/",
          "height": 568
        },
        "outputId": "16405012-b415-4d77-9aa9-a1b999317226"
      },
      "source": [
        "cases_count = train_data['label'].value_counts()\n",
        "print(cases_count)\n",
        "\n",
        "plt.figure(figsize=(10,8))\n",
        "sns.barplot(x=cases_count.index, y= cases_count.values)\n",
        "plt.title('Number of cases', fontsize=14)\n",
        "plt.xlabel('Case type', fontsize=12)\n",
        "plt.ylabel('Count', fontsize=12)\n",
        "plt.xticks(range(len(cases_count.index)), ['Automatic Transmission Motorbike (0)', 'Manual Transmission Motorbike (1)'])\n",
        "plt.show()"
      ],
      "execution_count": 12,
      "outputs": [
        {
          "output_type": "stream",
          "text": [
            "0    62\n",
            "1    61\n",
            "Name: label, dtype: int64\n"
          ],
          "name": "stdout"
        },
        {
          "output_type": "display_data",
          "data": {
            "image/png": "[encoded data removed]",
            "text/plain": [
              "<Figure size 720x576 with 1 Axes>"
            ]
          },
          "metadata": {
            "tags": [],
            "needs_background": "light"
          }
        }
      ]
    },
    {
      "cell_type": "code",
      "metadata": {
        "id": "kShtJteIjjDS",
        "colab_type": "code",
        "colab": {
          "base_uri": "https://localhost:8080/",
          "height": 129
        },
        "outputId": "345533fb-85c6-42df-90e5-62fd5b0ed61a"
      },
      "source": [
        "data_gen_args = dict(featurewise_center=True,\n",
        "                     featurewise_std_normalization=True,\n",
        "                     rotation_range=90,\n",
        "                     width_shift_range=[-200,-200],\n",
        "                     height_shift_range=[-200,200],\n",
        "                     horizontal_flip=True,\n",
        "                     vertical_flip=True,\n",
        "                     rescale=1./255,)\n",
        "image_data = ImageDataGenerator(**data_gen_args)\n",
        "\n",
        "image_data = image_data.flow_from_directory(\n",
        "    directory=data_dir,\n",
        "    target_size=(256, 256),\n",
        "    color_mode=\"rgb\",\n",
        "    classes=['AutomaticTransmissionMotorcycle','ManualTransmissionMotorcycle'],\n",
        "    class_mode=\"categorical\",\n",
        "    batch_size=32,\n",
        "    shuffle=True,\n",
        "    seed=None,\n",
        "    save_to_dir=None,\n",
        "    save_prefix=\"\",\n",
        "    save_format=\"png\",\n",
        "    follow_links=False,\n",
        "    subset=None,\n",
        "    interpolation=\"bilinear\"\n",
        ")\n",
        "for i in range(9):\n",
        "\t# define subplot\n",
        "\tplt.subplot(256 + 1 + i)\n",
        "\t# generate batch of images\n",
        "\tbatch = image_data.next()\n",
        "\t# convert to unsigned integers for viewing\n",
        "\timage = batch[0].astype('uint8')\n",
        "\t# plot raw pixel data\n",
        "  print(image)\n",
        "\t#plt.imshow((image[1],image[2],image[3]))\n",
        "# show the figure\n",
        "plt.show()"
      ],
      "execution_count": 31,
      "outputs": [
        {
          "output_type": "error",
          "ename": "IndentationError",
          "evalue": "ignored",
          "traceback": [
            "\u001b[0;36m  File \u001b[0;32m\"<ipython-input-31-e347adb6f072>\"\u001b[0;36m, line \u001b[0;32m35\u001b[0m\n\u001b[0;31m    print(image)\u001b[0m\n\u001b[0m                ^\u001b[0m\n\u001b[0;31mIndentationError\u001b[0m\u001b[0;31m:\u001b[0m unindent does not match any outer indentation level\n"
          ]
        }
      ]
    }
  ]
}