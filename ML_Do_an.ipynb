{
  "nbformat": 4,
  "nbformat_minor": 0,
  "metadata": {
    "colab": {
      "name": "ML_Do an.ipynb",
      "provenance": [],
      "authorship_tag": "ABX9TyNKzFkEW/SLOYhPINuLLDjR",
      "include_colab_link": true
    },
    "kernelspec": {
      "name": "python3",
      "display_name": "Python 3"
    }
  },
  "cells": [
    {
      "cell_type": "markdown",
      "metadata": {
        "id": "view-in-github",
        "colab_type": "text"
      },
      "source": [
        "<a href=\"https://colab.research.google.com/github/KicksxNPQ/CS114.K21.KHTN/blob/master/ML_Do_an.ipynb\" target=\"_parent\"><img src=\"https://colab.research.google.com/assets/colab-badge.svg\" alt=\"Open In Colab\"/></a>"
      ]
    },
    {
      "cell_type": "markdown",
      "metadata": {
        "id": "sDSohGQhrRZG",
        "colab_type": "text"
      },
      "source": [
        "# **ĐỀ TÀI: NHẬN DIỆN XE MÁY**"
      ]
    },
    {
      "cell_type": "markdown",
      "metadata": {
        "id": "RzkBuxfzsqVd",
        "colab_type": "text"
      },
      "source": [
        "1. Mô tả bài toán\n",
        "- Input: Một hình ảnh chiếc xe\n",
        "- Output: Cho biết chiếc xe đó có phải xe máy hay không\n",
        "\n",
        "2. Mô tả về bộ dữ liệu\n",
        "- Cách thức xây dựng bộ dữ liệu: tìm kiếm trên mạng, thu thập hình ảnh từ bạn bè.\n",
        "- Số lượng: 500 ảnh\n",
        "- Độ đa dạng: chỉ tập trung về xe máy.\n",
        "- Các thao tác tiền xử lý dữ liệu: \n",
        "> Thu thập dữ liệu\n",
        "> Gắn nhãn dữ liệu\n",
        "\n",
        "- Phân chia dữ liệu: \n",
        "> Train/Dev/Test: 8/1/1\n",
        "\n",
        "3. Mô tả về đặc trưng\n",
        "+ Số lượng bánh xe\n",
        "\n",
        "4. Mô tả về thuật toán máy học\n",
        "- Sử dụng thuật toán Faster R-CNN\n",
        "\n",
        "5. Cài đặt, tinh chỉnh tham số\n",
        "\n",
        "6. Đánh giá kết quả, kết luận"
      ]
    }
  ]
}