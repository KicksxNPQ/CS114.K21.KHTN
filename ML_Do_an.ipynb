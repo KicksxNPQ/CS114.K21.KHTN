{
  "nbformat": 4,
  "nbformat_minor": 0,
  "metadata": {
    "colab": {
      "name": "ML_Do an.ipynb",
      "provenance": [],
      "include_colab_link": true
    },
    "kernelspec": {
      "name": "python3",
      "display_name": "Python 3"
    }
  },
  "cells": [
    {
      "cell_type": "markdown",
      "metadata": {
        "id": "view-in-github",
        "colab_type": "text"
      },
      "source": [
        "<a href=\"https://colab.research.google.com/github/KicksxNPQ/CS114.K21.KHTN/blob/master/ML_Do_an.ipynb\" target=\"_parent\"><img src=\"https://colab.research.google.com/assets/colab-badge.svg\" alt=\"Open In Colab\"/></a>"
      ]
    },
    {
      "cell_type": "markdown",
      "metadata": {
        "id": "sDSohGQhrRZG",
        "colab_type": "text"
      },
      "source": [
        "# **ĐỀ TÀI: NHẬN DIỆN XE MÁY**"
      ]
    },
    {
      "cell_type": "markdown",
      "metadata": {
        "id": "RzkBuxfzsqVd",
        "colab_type": "text"
      },
      "source": [
        "1. Mô tả bài toán\n",
        "- Input: Một hình ảnh chiếc xe\n",
        "- Output: Phân loại xe máy đó là xe số hay xe tay ga\n",
        "\n",
        "2. Mô tả về bộ dữ liệu\n",
        "- Cách thức xây dựng bộ dữ liệu: tìm kiếm trên mạng, thu thập hình ảnh từ bạn bè.\n",
        "- Số lượng: 500 ảnh\n",
        "- Độ đa dạng: chỉ tập trung về xe máy.\n",
        "- Các thao tác tiền xử lý dữ liệu: \n",
        "> Thu thập dữ liệu\n",
        "> Gắn nhãn dữ liệu\n",
        "\n",
        "- Phân chia dữ liệu: \n",
        "> Train/Dev/Test: 8/1/1\n",
        "\n",
        "3. Mô tả về đặc trưng\n",
        "+ Số lượng bánh xe\n",
        "+ Chiều dài xe\n",
        "+ Chiều rộng bánh xe\n",
        "+ Loại xe (tay ga, tay côn, xe số)\n",
        "\n",
        "4. Mô tả về thuật toán máy học\n",
        "- Sử dụng thuật toán Faster R-CNN\n",
        "\n",
        "5. Cài đặt, tinh chỉnh tham số\n",
        "\n",
        "6. Đánh giá kết quả, kết luận"
      ]
    },
    {
      "cell_type": "code",
      "metadata": {
        "id": "xXyZyhyNCGjl",
        "colab_type": "code",
        "colab": {
          "base_uri": "https://localhost:8080/",
          "height": 122
        },
        "outputId": "2339627d-97d9-4045-fec4-2073a4e2973e"
      },
      "source": [
        "from google.colab import drive\n",
        "drive.mount('/content/drive')"
      ],
      "execution_count": 1,
      "outputs": [
        {
          "output_type": "stream",
          "text": [
            "Go to this URL in a browser: https://accounts.google.com/o/oauth2/auth?client_id=947318989803-6bn6qk8qdgf4n4g3pfee6491hc0brc4i.apps.googleusercontent.com&redirect_uri=urn%3aietf%3awg%3aoauth%3a2.0%3aoob&response_type=code&scope=email%20https%3a%2f%2fwww.googleapis.com%2fauth%2fdocs.test%20https%3a%2f%2fwww.googleapis.com%2fauth%2fdrive%20https%3a%2f%2fwww.googleapis.com%2fauth%2fdrive.photos.readonly%20https%3a%2f%2fwww.googleapis.com%2fauth%2fpeopleapi.readonly\n",
            "\n",
            "Enter your authorization code:\n",
            "··········\n",
            "Mounted at /content/drive\n"
          ],
          "name": "stdout"
        }
      ]
    },
    {
      "cell_type": "code",
      "metadata": {
        "id": "bASBL9KsBZgo",
        "colab_type": "code",
        "colab": {}
      },
      "source": [
        "import os\n",
        "import glob\n",
        "import h5py\n",
        "import shutil\n",
        "import imgaug as aug\n",
        "import numpy as np # linear algebra\n",
        "import pandas as pd # data processing, CSV file I/O (e.g. pd.read_csv)\n",
        "import seaborn as sns\n",
        "import matplotlib.pyplot as plt\n",
        "import matplotlib.image as mimg\n",
        "import imgaug.augmenters as iaa\n",
        "from os import listdir, makedirs, getcwd, remove\n",
        "from os.path import isfile, join, abspath, exists, isdir, expanduser\n",
        "from PIL import Image\n",
        "from pathlib import Path\n",
        "from skimage.io import imread\n",
        "from skimage.transform import resize\n",
        "from keras.models import Sequential, Model\n",
        "from keras.applications.vgg16 import VGG16, preprocess_input\n",
        "from keras.preprocessing.image import ImageDataGenerator,load_img, img_to_array\n",
        "from keras.models import Sequential\n",
        "from keras.layers import Conv2D, MaxPooling2D, Dense, Dropout, Input, Flatten, SeparableConv2D\n",
        "from keras.layers import GlobalMaxPooling2D\n",
        "from keras.layers.normalization import BatchNormalization\n",
        "from keras.layers.merge import Concatenate\n",
        "from keras.models import Model\n",
        "from keras.optimizers import Adam, SGD, RMSprop\n",
        "from keras.callbacks import ModelCheckpoint, Callback, EarlyStopping\n",
        "from keras.utils import to_categorical\n",
        "from sklearn.model_selection import train_test_split\n",
        "from sklearn.preprocessing import StandardScaler\n",
        "from mlxtend.plotting import plot_confusion_matrix\n",
        "from sklearn.metrics import confusion_matrix\n",
        "import cv2\n",
        "from keras import backend as K"
      ],
      "execution_count": 4,
      "outputs": []
    },
    {
      "cell_type": "code",
      "metadata": {
        "id": "Z80aJKv-DfBQ",
        "colab_type": "code",
        "colab": {
          "base_uri": "https://localhost:8080/",
          "height": 34
        },
        "outputId": "13ce297d-6aa9-41d9-e2ba-41c2f7000e33"
      },
      "source": [
        "print(os.listdir())"
      ],
      "execution_count": 6,
      "outputs": [
        {
          "output_type": "stream",
          "text": [
            "['.config', 'drive', 'sample_data']\n"
          ],
          "name": "stdout"
        }
      ]
    },
    {
      "cell_type": "code",
      "metadata": {
        "id": "N3ub0kUtDsxH",
        "colab_type": "code",
        "colab": {
          "base_uri": "https://localhost:8080/",
          "height": 34
        },
        "outputId": "d22b64b8-6e48-4fc0-c58f-6fd27d3793a3"
      },
      "source": [
        "data_dir = Path(r'./drive/My Drive/MotorCycle_data')\n",
        "automotor_data = data_dir / 'AutomaticTransmissionMotorcycle'\n",
        "manualmotor_data = data_dir / 'ManualTransmissionMotorcycle'\n",
        "print(automotor_data)"
      ],
      "execution_count": 8,
      "outputs": [
        {
          "output_type": "stream",
          "text": [
            "drive/My Drive/MotorCycle_data/AutomaticTransmissionMotorcycle\n"
          ],
          "name": "stdout"
        }
      ]
    },
    {
      "cell_type": "code",
      "metadata": {
        "id": "6XPy7AUBHeiZ",
        "colab_type": "code",
        "colab": {}
      },
      "source": [
        "def get_data(data, pattern):\n",
        "  data_case = data.glob(pattern)\n",
        "  return data_case"
      ],
      "execution_count": 20,
      "outputs": []
    },
    {
      "cell_type": "code",
      "metadata": {
        "id": "befPLXmzEf4P",
        "colab_type": "code",
        "colab": {}
      },
      "source": [
        "train_data = []\n",
        "for img in get_data(automotor_data, '*.jpeg'):\n",
        "  train_data.append((img,0))\n",
        "for img in get_data(automotor_data, '*.jpg'):\n",
        "  train_data.append((img,0))\n",
        "for img in get_data(automotor_data, '*.png'):\n",
        "  train_data.append((img,0))\n",
        "for img in get_data(manualmotor_data, '*.jpeg'):\n",
        "  train_data.append((img,1))\n",
        "for img in get_data(manualmotor_data, '*.jpg'):\n",
        "  train_data.append((img,1))\n",
        "for img in get_data(manualmotor_data, '*.png'):\n",
        "  train_data.append((img,1))\n",
        "train_data = pd.DataFrame(train_data, columns=['image', 'label'],index=None)\n",
        "train_data = train_data.sample(frac=1.).reset_index(drop=True)"
      ],
      "execution_count": 23,
      "outputs": []
    },
    {
      "cell_type": "code",
      "metadata": {
        "id": "d2VoS7pOIOgh",
        "colab_type": "code",
        "colab": {
          "base_uri": "https://localhost:8080/",
          "height": 204
        },
        "outputId": "396faf8a-e48d-4752-e5b2-b78f71be6c80"
      },
      "source": [
        "train_data.head()"
      ],
      "execution_count": 24,
      "outputs": [
        {
          "output_type": "execute_result",
          "data": {
            "text/html": [
              "<div>\n",
              "<style scoped>\n",
              "    .dataframe tbody tr th:only-of-type {\n",
              "        vertical-align: middle;\n",
              "    }\n",
              "\n",
              "    .dataframe tbody tr th {\n",
              "        vertical-align: top;\n",
              "    }\n",
              "\n",
              "    .dataframe thead th {\n",
              "        text-align: right;\n",
              "    }\n",
              "</style>\n",
              "<table border=\"1\" class=\"dataframe\">\n",
              "  <thead>\n",
              "    <tr style=\"text-align: right;\">\n",
              "      <th></th>\n",
              "      <th>image</th>\n",
              "      <th>label</th>\n",
              "    </tr>\n",
              "  </thead>\n",
              "  <tbody>\n",
              "    <tr>\n",
              "      <th>0</th>\n",
              "      <td>drive/My Drive/MotorCycle_data/ManualTransmiss...</td>\n",
              "      <td>1</td>\n",
              "    </tr>\n",
              "    <tr>\n",
              "      <th>1</th>\n",
              "      <td>drive/My Drive/MotorCycle_data/AutomaticTransm...</td>\n",
              "      <td>0</td>\n",
              "    </tr>\n",
              "    <tr>\n",
              "      <th>2</th>\n",
              "      <td>drive/My Drive/MotorCycle_data/AutomaticTransm...</td>\n",
              "      <td>0</td>\n",
              "    </tr>\n",
              "    <tr>\n",
              "      <th>3</th>\n",
              "      <td>drive/My Drive/MotorCycle_data/ManualTransmiss...</td>\n",
              "      <td>1</td>\n",
              "    </tr>\n",
              "    <tr>\n",
              "      <th>4</th>\n",
              "      <td>drive/My Drive/MotorCycle_data/AutomaticTransm...</td>\n",
              "      <td>0</td>\n",
              "    </tr>\n",
              "  </tbody>\n",
              "</table>\n",
              "</div>"
            ],
            "text/plain": [
              "                                               image  label\n",
              "0  drive/My Drive/MotorCycle_data/ManualTransmiss...      1\n",
              "1  drive/My Drive/MotorCycle_data/AutomaticTransm...      0\n",
              "2  drive/My Drive/MotorCycle_data/AutomaticTransm...      0\n",
              "3  drive/My Drive/MotorCycle_data/ManualTransmiss...      1\n",
              "4  drive/My Drive/MotorCycle_data/AutomaticTransm...      0"
            ]
          },
          "metadata": {
            "tags": []
          },
          "execution_count": 24
        }
      ]
    }
  ]
}